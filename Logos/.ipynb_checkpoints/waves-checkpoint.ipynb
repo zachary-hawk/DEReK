{
 "cells": [
  {
   "cell_type": "code",
   "execution_count": 8,
   "id": "eba497b2",
   "metadata": {},
   "outputs": [],
   "source": [
    "import numpy as np\n",
    "import matplotlib.pyplot as plt\n",
    "from numpy import pi,sin,cos"
   ]
  },
  {
   "cell_type": "code",
   "execution_count": 26,
   "id": "9af8cb92",
   "metadata": {},
   "outputs": [],
   "source": [
    "N=100\n",
    "xs = np.linspace(0,1,N)\n",
    "\n",
    "w1 = sin(8*pi*xs)+sin(1*pi*xs)"
   ]
  },
  {
   "cell_type": "markdown",
   "id": "a1221759",
   "metadata": {},
   "source": [
    "fig,ax=plt.subplots(figsize = (12,8))\n",
    "\n",
    "ax.plot(xs,w1)"
   ]
  },
  {
   "cell_type": "code",
   "execution_count": null,
   "id": "06b9395f",
   "metadata": {},
   "outputs": [],
   "source": []
  }
 ],
 "metadata": {
  "kernelspec": {
   "display_name": "Python 3",
   "language": "python",
   "name": "python3"
  },
  "language_info": {
   "codemirror_mode": {
    "name": "ipython",
    "version": 3
   },
   "file_extension": ".py",
   "mimetype": "text/x-python",
   "name": "python",
   "nbconvert_exporter": "python",
   "pygments_lexer": "ipython3",
   "version": "3.7.3"
  }
 },
 "nbformat": 4,
 "nbformat_minor": 5
}
